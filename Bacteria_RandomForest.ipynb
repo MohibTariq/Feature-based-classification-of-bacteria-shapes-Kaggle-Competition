{
 "cells": [
  {
   "cell_type": "code",
   "execution_count": 2,
   "metadata": {
    "scrolled": false
   },
   "outputs": [
    {
     "name": "stdout",
     "output_type": "stream",
     "text": [
      "         ID Class\n",
      "0     13154     b\n",
      "1      2571     a\n",
      "2      1320     a\n",
      "3     16907     b\n",
      "4      5570     a\n",
      "...     ...   ...\n",
      "5701  16632     b\n",
      "5702  11032     a\n",
      "5703  15068     a\n",
      "5704  10456     a\n",
      "5705    958     a\n",
      "\n",
      "[5706 rows x 2 columns]\n"
     ]
    }
   ],
   "source": [
    "import pandas as pd\n",
    "import numpy as np\n",
    "from matplotlib import pyplot as plt\n",
    "get_ipython().run_line_magic('matplotlib', 'inline')\n",
    "import matplotlib\n",
    "matplotlib.rcParams['figure.figsize'] = (20,10)\n",
    "\n",
    "df1 = pd.read_csv(\"train.csv\")\n",
    "df1.shape\n",
    "df1.isnull().sum()\n",
    "\n",
    "df1.fillna(method=\"ffill\",inplace=True)\n",
    "tf = pd.read_csv(\"Test.csv\")\n",
    "X_Test = tf\n",
    "\n",
    "X_Train = tf.iloc[:,:-1]\n",
    "Y_Train = tf.iloc[:,-1]\n",
    "X_Train = df1.iloc[:,:-1]\n",
    "Y_Train = df1.iloc[:,-1]\n",
    "\n",
    "def func(char):\n",
    "    if char=='a':\n",
    "        return 0\n",
    "    else:\n",
    "        return 1\n",
    "Y_Train=Y_Train.apply(func)\n",
    "X_Train=X_Train.drop(columns=['Feature 10'])\n",
    "from sklearn.ensemble import RandomForestClassifier\n",
    "model = RandomForestClassifier(n_estimators = 180, criterion = 'entropy', random_state = 0)\n",
    "model.fit(X_Train,Y_Train)\n",
    "\n",
    "from sklearn import preprocessing\n",
    "scaler = preprocessing.StandardScaler().fit(X_Train)\n",
    "X_scaled = scaler.transform(X_Train)\n",
    "model.fit(X_scaled,Y_Train)\n",
    "\n",
    "df1.fillna(method=\"ffill\",inplace=True)\n",
    "tf = pd.read_csv(\"Test.csv\")\n",
    "X_Test = tf\n",
    "X_Test=X_Test.drop(columns=['ID','Feature 10'])\n",
    "X_test_scaled = scaler.transform(X_Test)\n",
    "model.predict(X_Test)\n",
    "predict = model.predict(X_test_scaled)\n",
    "import numpy as np\n",
    "x = []\n",
    "for i in predict:\n",
    "    if i==0:\n",
    "        x.append(\"a\")\n",
    "    elif(i==1):\n",
    "        x.append(\"b\")\n",
    "predicted = np.array(x)\n",
    "fdf  = tf[\"ID\"]\n",
    "ddf = pd.DataFrame(predicted)\n",
    "result = pd.concat([fdf, ddf], axis=1)\n",
    "      \n",
    "# column.rename(value)\n",
    "result.rename(columns= {0: 'Class'}, inplace=True)\n",
    "print(result)  \n",
    "result.to_csv('results_RRandomForest.csv', \n",
    "                index = None)"
   ]
  },
  {
   "cell_type": "code",
   "execution_count": null,
   "metadata": {},
   "outputs": [],
   "source": []
  }
 ],
 "metadata": {
  "kernelspec": {
   "display_name": "Python 3",
   "language": "python",
   "name": "python3"
  },
  "language_info": {
   "codemirror_mode": {
    "name": "ipython",
    "version": 3
   },
   "file_extension": ".py",
   "mimetype": "text/x-python",
   "name": "python",
   "nbconvert_exporter": "python",
   "pygments_lexer": "ipython3",
   "version": "3.8.5"
  }
 },
 "nbformat": 4,
 "nbformat_minor": 4
}
